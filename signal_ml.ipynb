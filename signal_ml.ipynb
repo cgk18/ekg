{
 "cells": [
  {
   "cell_type": "code",
   "execution_count": 1,
   "id": "a0dbb436",
   "metadata": {},
   "outputs": [],
   "source": [
    "import pandas as pd\n",
    "import numpy as np\n",
    "import wfdb\n",
    "import ast"
   ]
  },
  {
   "cell_type": "code",
   "execution_count": 2,
   "id": "47d9cdc7",
   "metadata": {},
   "outputs": [],
   "source": [
    "def load_raw_data(df, sampling_rate, path):\n",
    "    if sampling_rate == 100:\n",
    "        data = [wfdb.rdsamp(path+f) for f in df.filename_lr]\n",
    "    else:\n",
    "        data = [wfdb.rdsamp(path+f) for f in df.filename_hr]\n",
    "    data = np.array([signal for signal, meta in data])\n",
    "    return data"
   ]
  },
  {
   "cell_type": "code",
   "execution_count": 4,
   "id": "237da3ea",
   "metadata": {},
   "outputs": [],
   "source": [
    "path = 'dat/ptb-xl-a-large-publicly-available-electrocardiography-dataset-1.0.3/'\n",
    "sampling_rate=100\n",
    "Y = pd.read_csv(path+'ptbxl_database.csv', index_col='ecg_id')\n",
    "Y.scp_codes = Y.scp_codes.apply(lambda x: ast.literal_eval(x))"
   ]
  },
  {
   "cell_type": "code",
   "execution_count": 10,
   "id": "17c68121",
   "metadata": {},
   "outputs": [
    {
     "data": {
      "text/plain": [
       "ecg_id\n",
       "1    {'NORM': 100.0, 'LVOLT': 0.0, 'SR': 0.0}\n",
       "2                {'NORM': 80.0, 'SBRAD': 0.0}\n",
       "3                  {'NORM': 100.0, 'SR': 0.0}\n",
       "4                  {'NORM': 100.0, 'SR': 0.0}\n",
       "5                  {'NORM': 100.0, 'SR': 0.0}\n",
       "Name: scp_codes, dtype: object"
      ]
     },
     "execution_count": 10,
     "metadata": {},
     "output_type": "execute_result"
    }
   ],
   "source": [
    "Y.scp_codes.head()"
   ]
  },
  {
   "cell_type": "code",
   "execution_count": 6,
   "id": "0f0a8b37",
   "metadata": {},
   "outputs": [],
   "source": [
    "# Load raw signal data\n",
    "X = load_raw_data(Y, sampling_rate, path)\n",
    "\n",
    "# Load scp_statements.csv for diagnostic aggregation\n",
    "agg_df = pd.read_csv(path+'scp_statements.csv', index_col=0)\n",
    "agg_df = agg_df[agg_df.diagnostic == 1]"
   ]
  },
  {
   "cell_type": "code",
   "execution_count": 9,
   "id": "42636f56",
   "metadata": {},
   "outputs": [],
   "source": [
    "def aggregate_diagnostic(y_dic):\n",
    "    tmp = []\n",
    "    for key in y_dic.keys():\n",
    "        if key in agg_df.index:\n",
    "            tmp.append(agg_df.loc[key].diagnostic_class)\n",
    "    return list(set(tmp))"
   ]
  },
  {
   "cell_type": "code",
   "execution_count": 17,
   "id": "a6e865e8",
   "metadata": {},
   "outputs": [],
   "source": [
    "Y['diagnostic_superclass'] = Y.scp_codes.apply(aggregate_diagnostic)\n",
    "\n",
    "# Split data into train and test\n"
   ]
  },
  {
   "cell_type": "code",
   "execution_count": 15,
   "id": "b054c1e2",
   "metadata": {},
   "outputs": [
    {
     "data": {
      "text/html": [
       "<div>\n",
       "<style scoped>\n",
       "    .dataframe tbody tr th:only-of-type {\n",
       "        vertical-align: middle;\n",
       "    }\n",
       "\n",
       "    .dataframe tbody tr th {\n",
       "        vertical-align: top;\n",
       "    }\n",
       "\n",
       "    .dataframe thead th {\n",
       "        text-align: right;\n",
       "    }\n",
       "</style>\n",
       "<table border=\"1\" class=\"dataframe\">\n",
       "  <thead>\n",
       "    <tr style=\"text-align: right;\">\n",
       "      <th></th>\n",
       "      <th>scp_codes</th>\n",
       "      <th>diagnostic_superclass</th>\n",
       "    </tr>\n",
       "    <tr>\n",
       "      <th>ecg_id</th>\n",
       "      <th></th>\n",
       "      <th></th>\n",
       "    </tr>\n",
       "  </thead>\n",
       "  <tbody>\n",
       "    <tr>\n",
       "      <th>1</th>\n",
       "      <td>{'NORM': 100.0, 'LVOLT': 0.0, 'SR': 0.0}</td>\n",
       "      <td>[NORM]</td>\n",
       "    </tr>\n",
       "    <tr>\n",
       "      <th>2</th>\n",
       "      <td>{'NORM': 80.0, 'SBRAD': 0.0}</td>\n",
       "      <td>[NORM]</td>\n",
       "    </tr>\n",
       "    <tr>\n",
       "      <th>3</th>\n",
       "      <td>{'NORM': 100.0, 'SR': 0.0}</td>\n",
       "      <td>[NORM]</td>\n",
       "    </tr>\n",
       "    <tr>\n",
       "      <th>4</th>\n",
       "      <td>{'NORM': 100.0, 'SR': 0.0}</td>\n",
       "      <td>[NORM]</td>\n",
       "    </tr>\n",
       "    <tr>\n",
       "      <th>5</th>\n",
       "      <td>{'NORM': 100.0, 'SR': 0.0}</td>\n",
       "      <td>[NORM]</td>\n",
       "    </tr>\n",
       "    <tr>\n",
       "      <th>...</th>\n",
       "      <td>...</td>\n",
       "      <td>...</td>\n",
       "    </tr>\n",
       "    <tr>\n",
       "      <th>21833</th>\n",
       "      <td>{'NDT': 100.0, 'PVC': 100.0, 'VCLVH': 0.0, 'ST...</td>\n",
       "      <td>[STTC]</td>\n",
       "    </tr>\n",
       "    <tr>\n",
       "      <th>21834</th>\n",
       "      <td>{'NORM': 100.0, 'ABQRS': 0.0, 'SR': 0.0}</td>\n",
       "      <td>[NORM]</td>\n",
       "    </tr>\n",
       "    <tr>\n",
       "      <th>21835</th>\n",
       "      <td>{'ISCAS': 50.0, 'SR': 0.0}</td>\n",
       "      <td>[STTC]</td>\n",
       "    </tr>\n",
       "    <tr>\n",
       "      <th>21836</th>\n",
       "      <td>{'NORM': 100.0, 'SR': 0.0}</td>\n",
       "      <td>[NORM]</td>\n",
       "    </tr>\n",
       "    <tr>\n",
       "      <th>21837</th>\n",
       "      <td>{'NORM': 100.0, 'SR': 0.0}</td>\n",
       "      <td>[NORM]</td>\n",
       "    </tr>\n",
       "  </tbody>\n",
       "</table>\n",
       "<p>21799 rows × 2 columns</p>\n",
       "</div>"
      ],
      "text/plain": [
       "                                                scp_codes  \\\n",
       "ecg_id                                                      \n",
       "1                {'NORM': 100.0, 'LVOLT': 0.0, 'SR': 0.0}   \n",
       "2                            {'NORM': 80.0, 'SBRAD': 0.0}   \n",
       "3                              {'NORM': 100.0, 'SR': 0.0}   \n",
       "4                              {'NORM': 100.0, 'SR': 0.0}   \n",
       "5                              {'NORM': 100.0, 'SR': 0.0}   \n",
       "...                                                   ...   \n",
       "21833   {'NDT': 100.0, 'PVC': 100.0, 'VCLVH': 0.0, 'ST...   \n",
       "21834            {'NORM': 100.0, 'ABQRS': 0.0, 'SR': 0.0}   \n",
       "21835                          {'ISCAS': 50.0, 'SR': 0.0}   \n",
       "21836                          {'NORM': 100.0, 'SR': 0.0}   \n",
       "21837                          {'NORM': 100.0, 'SR': 0.0}   \n",
       "\n",
       "       diagnostic_superclass  \n",
       "ecg_id                        \n",
       "1                     [NORM]  \n",
       "2                     [NORM]  \n",
       "3                     [NORM]  \n",
       "4                     [NORM]  \n",
       "5                     [NORM]  \n",
       "...                      ...  \n",
       "21833                 [STTC]  \n",
       "21834                 [NORM]  \n",
       "21835                 [STTC]  \n",
       "21836                 [NORM]  \n",
       "21837                 [NORM]  \n",
       "\n",
       "[21799 rows x 2 columns]"
      ]
     },
     "execution_count": 15,
     "metadata": {},
     "output_type": "execute_result"
    }
   ],
   "source": [
    "Y[['scp_codes','diagnostic_superclass']]"
   ]
  },
  {
   "cell_type": "code",
   "execution_count": 20,
   "id": "ae50dbe1",
   "metadata": {},
   "outputs": [
    {
     "name": "stdout",
     "output_type": "stream",
     "text": [
      "32\n"
     ]
    }
   ],
   "source": [
    "# convert list to a string\n",
    "Y['diagnosis_combined'] = Y['diagnostic_superclass'].apply(lambda x: ' '.join(x))\n",
    "\n",
    "Y[['diagnosis_combined','diagnostic_superclass']]\n",
    "print(Y['diagnosis_combined'].nunique())"
   ]
  },
  {
   "cell_type": "code",
   "execution_count": 23,
   "id": "aace3d04",
   "metadata": {},
   "outputs": [
    {
     "name": "stdout",
     "output_type": "stream",
     "text": [
      "diagnosis_combined\n",
      "NORM              9069\n",
      "MI                2532\n",
      "STTC              2400\n",
      "CD                1708\n",
      "CD MI             1278\n",
      "STTC HYP           608\n",
      "MI STTC            599\n",
      "HYP                535\n",
      "CD STTC            471\n",
      "                   411\n",
      "CD NORM            407\n",
      "STTC MI HYP        340\n",
      "CD HYP             300\n",
      "CD MI STTC         220\n",
      "MI HYP             183\n",
      "HYP STTC           173\n",
      "STTC CD HYP        156\n",
      "STTC CD MI HYP     140\n",
      "CD MI HYP          111\n",
      "HYP CD STTC         55\n",
      "STTC NORM           28\n",
      "HYP MI STTC         21\n",
      "MI CD               19\n",
      "HYP CD MI STTC      14\n",
      "MI CD HYP            6\n",
      "STTC CD NORM         5\n",
      "MI CD STTC           3\n",
      "HYP CD NORM          2\n",
      "HYP NORM             2\n",
      "MI STTC CD HYP       1\n",
      "MI HYP CD NORM       1\n",
      "MI HYP CD STTC       1\n",
      "Name: count, dtype: int64\n"
     ]
    }
   ],
   "source": [
    "print(Y['diagnosis_combined'].value_counts())"
   ]
  },
  {
   "cell_type": "code",
   "execution_count": null,
   "id": "a2596532",
   "metadata": {},
   "outputs": [],
   "source": [
    "# Split into train and test. \n",
    "\n",
    "test_fold = 10\n",
    "# Train\n",
    "X_train = X[np.where(Y.strat_fold != test_fold)]\n",
    "y_train = Y[(Y.strat_fold != test_fold)].diagnostic_superclass\n",
    "# Test\n",
    "X_test = X[np.where(Y.strat_fold == test_fold)]\n",
    "y_test = Y[Y.strat_fold == test_fold].diagnostic_superclass"
   ]
  }
 ],
 "metadata": {
  "kernelspec": {
   "display_name": "ekg",
   "language": "python",
   "name": "python3"
  },
  "language_info": {
   "codemirror_mode": {
    "name": "ipython",
    "version": 3
   },
   "file_extension": ".py",
   "mimetype": "text/x-python",
   "name": "python",
   "nbconvert_exporter": "python",
   "pygments_lexer": "ipython3",
   "version": "3.13.1"
  }
 },
 "nbformat": 4,
 "nbformat_minor": 5
}
