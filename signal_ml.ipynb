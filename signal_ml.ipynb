{
 "cells": [
  {
   "cell_type": "code",
   "execution_count": 1,
   "id": "a0dbb436",
   "metadata": {},
   "outputs": [],
   "source": [
    "import pandas as pd\n",
    "import numpy as np\n",
    "import ast"
   ]
  },
  {
   "cell_type": "code",
   "execution_count": 2,
   "id": "d80e7b39",
   "metadata": {},
   "outputs": [],
   "source": [
    "database = pd.read_csv(\"ptbxl_database.csv\")"
   ]
  },
  {
   "cell_type": "code",
   "execution_count": 3,
   "id": "47392d90",
   "metadata": {},
   "outputs": [
    {
     "data": {
      "text/html": [
       "<div>\n",
       "<style scoped>\n",
       "    .dataframe tbody tr th:only-of-type {\n",
       "        vertical-align: middle;\n",
       "    }\n",
       "\n",
       "    .dataframe tbody tr th {\n",
       "        vertical-align: top;\n",
       "    }\n",
       "\n",
       "    .dataframe thead th {\n",
       "        text-align: right;\n",
       "    }\n",
       "</style>\n",
       "<table border=\"1\" class=\"dataframe\">\n",
       "  <thead>\n",
       "    <tr style=\"text-align: right;\">\n",
       "      <th></th>\n",
       "      <th>ecg_id</th>\n",
       "      <th>patient_id</th>\n",
       "      <th>age</th>\n",
       "      <th>sex</th>\n",
       "      <th>height</th>\n",
       "      <th>weight</th>\n",
       "      <th>nurse</th>\n",
       "      <th>site</th>\n",
       "      <th>device</th>\n",
       "      <th>recording_date</th>\n",
       "      <th>...</th>\n",
       "      <th>validated_by_human</th>\n",
       "      <th>baseline_drift</th>\n",
       "      <th>static_noise</th>\n",
       "      <th>burst_noise</th>\n",
       "      <th>electrodes_problems</th>\n",
       "      <th>extra_beats</th>\n",
       "      <th>pacemaker</th>\n",
       "      <th>strat_fold</th>\n",
       "      <th>filename_lr</th>\n",
       "      <th>filename_hr</th>\n",
       "    </tr>\n",
       "  </thead>\n",
       "  <tbody>\n",
       "    <tr>\n",
       "      <th>0</th>\n",
       "      <td>1</td>\n",
       "      <td>15709.0</td>\n",
       "      <td>56.0</td>\n",
       "      <td>1</td>\n",
       "      <td>NaN</td>\n",
       "      <td>63.0</td>\n",
       "      <td>2.0</td>\n",
       "      <td>0.0</td>\n",
       "      <td>CS-12   E</td>\n",
       "      <td>1984-11-09 09:17:34</td>\n",
       "      <td>...</td>\n",
       "      <td>True</td>\n",
       "      <td>NaN</td>\n",
       "      <td>, I-V1,</td>\n",
       "      <td>NaN</td>\n",
       "      <td>NaN</td>\n",
       "      <td>NaN</td>\n",
       "      <td>NaN</td>\n",
       "      <td>3</td>\n",
       "      <td>records100/00000/00001_lr</td>\n",
       "      <td>records500/00000/00001_hr</td>\n",
       "    </tr>\n",
       "    <tr>\n",
       "      <th>1</th>\n",
       "      <td>2</td>\n",
       "      <td>13243.0</td>\n",
       "      <td>19.0</td>\n",
       "      <td>0</td>\n",
       "      <td>NaN</td>\n",
       "      <td>70.0</td>\n",
       "      <td>2.0</td>\n",
       "      <td>0.0</td>\n",
       "      <td>CS-12   E</td>\n",
       "      <td>1984-11-14 12:55:37</td>\n",
       "      <td>...</td>\n",
       "      <td>True</td>\n",
       "      <td>NaN</td>\n",
       "      <td>NaN</td>\n",
       "      <td>NaN</td>\n",
       "      <td>NaN</td>\n",
       "      <td>NaN</td>\n",
       "      <td>NaN</td>\n",
       "      <td>2</td>\n",
       "      <td>records100/00000/00002_lr</td>\n",
       "      <td>records500/00000/00002_hr</td>\n",
       "    </tr>\n",
       "    <tr>\n",
       "      <th>2</th>\n",
       "      <td>3</td>\n",
       "      <td>20372.0</td>\n",
       "      <td>37.0</td>\n",
       "      <td>1</td>\n",
       "      <td>NaN</td>\n",
       "      <td>69.0</td>\n",
       "      <td>2.0</td>\n",
       "      <td>0.0</td>\n",
       "      <td>CS-12   E</td>\n",
       "      <td>1984-11-15 12:49:10</td>\n",
       "      <td>...</td>\n",
       "      <td>True</td>\n",
       "      <td>NaN</td>\n",
       "      <td>NaN</td>\n",
       "      <td>NaN</td>\n",
       "      <td>NaN</td>\n",
       "      <td>NaN</td>\n",
       "      <td>NaN</td>\n",
       "      <td>5</td>\n",
       "      <td>records100/00000/00003_lr</td>\n",
       "      <td>records500/00000/00003_hr</td>\n",
       "    </tr>\n",
       "    <tr>\n",
       "      <th>3</th>\n",
       "      <td>4</td>\n",
       "      <td>17014.0</td>\n",
       "      <td>24.0</td>\n",
       "      <td>0</td>\n",
       "      <td>NaN</td>\n",
       "      <td>82.0</td>\n",
       "      <td>2.0</td>\n",
       "      <td>0.0</td>\n",
       "      <td>CS-12   E</td>\n",
       "      <td>1984-11-15 13:44:57</td>\n",
       "      <td>...</td>\n",
       "      <td>True</td>\n",
       "      <td>, II,III,AVF</td>\n",
       "      <td>NaN</td>\n",
       "      <td>NaN</td>\n",
       "      <td>NaN</td>\n",
       "      <td>NaN</td>\n",
       "      <td>NaN</td>\n",
       "      <td>3</td>\n",
       "      <td>records100/00000/00004_lr</td>\n",
       "      <td>records500/00000/00004_hr</td>\n",
       "    </tr>\n",
       "    <tr>\n",
       "      <th>4</th>\n",
       "      <td>5</td>\n",
       "      <td>17448.0</td>\n",
       "      <td>19.0</td>\n",
       "      <td>1</td>\n",
       "      <td>NaN</td>\n",
       "      <td>70.0</td>\n",
       "      <td>2.0</td>\n",
       "      <td>0.0</td>\n",
       "      <td>CS-12   E</td>\n",
       "      <td>1984-11-17 10:43:15</td>\n",
       "      <td>...</td>\n",
       "      <td>True</td>\n",
       "      <td>, III,AVR,AVF</td>\n",
       "      <td>NaN</td>\n",
       "      <td>NaN</td>\n",
       "      <td>NaN</td>\n",
       "      <td>NaN</td>\n",
       "      <td>NaN</td>\n",
       "      <td>4</td>\n",
       "      <td>records100/00000/00005_lr</td>\n",
       "      <td>records500/00000/00005_hr</td>\n",
       "    </tr>\n",
       "  </tbody>\n",
       "</table>\n",
       "<p>5 rows × 28 columns</p>\n",
       "</div>"
      ],
      "text/plain": [
       "   ecg_id  patient_id   age  sex  height  weight  nurse  site     device  \\\n",
       "0       1     15709.0  56.0    1     NaN    63.0    2.0   0.0  CS-12   E   \n",
       "1       2     13243.0  19.0    0     NaN    70.0    2.0   0.0  CS-12   E   \n",
       "2       3     20372.0  37.0    1     NaN    69.0    2.0   0.0  CS-12   E   \n",
       "3       4     17014.0  24.0    0     NaN    82.0    2.0   0.0  CS-12   E   \n",
       "4       5     17448.0  19.0    1     NaN    70.0    2.0   0.0  CS-12   E   \n",
       "\n",
       "        recording_date  ... validated_by_human  baseline_drift static_noise  \\\n",
       "0  1984-11-09 09:17:34  ...               True             NaN    , I-V1,     \n",
       "1  1984-11-14 12:55:37  ...               True             NaN          NaN   \n",
       "2  1984-11-15 12:49:10  ...               True             NaN          NaN   \n",
       "3  1984-11-15 13:44:57  ...               True    , II,III,AVF          NaN   \n",
       "4  1984-11-17 10:43:15  ...               True   , III,AVR,AVF          NaN   \n",
       "\n",
       "  burst_noise electrodes_problems  extra_beats  pacemaker  strat_fold  \\\n",
       "0         NaN                 NaN          NaN        NaN           3   \n",
       "1         NaN                 NaN          NaN        NaN           2   \n",
       "2         NaN                 NaN          NaN        NaN           5   \n",
       "3         NaN                 NaN          NaN        NaN           3   \n",
       "4         NaN                 NaN          NaN        NaN           4   \n",
       "\n",
       "                 filename_lr                filename_hr  \n",
       "0  records100/00000/00001_lr  records500/00000/00001_hr  \n",
       "1  records100/00000/00002_lr  records500/00000/00002_hr  \n",
       "2  records100/00000/00003_lr  records500/00000/00003_hr  \n",
       "3  records100/00000/00004_lr  records500/00000/00004_hr  \n",
       "4  records100/00000/00005_lr  records500/00000/00005_hr  \n",
       "\n",
       "[5 rows x 28 columns]"
      ]
     },
     "execution_count": 3,
     "metadata": {},
     "output_type": "execute_result"
    }
   ],
   "source": [
    "database.head()"
   ]
  },
  {
   "cell_type": "code",
   "execution_count": 5,
   "id": "731e9f98",
   "metadata": {},
   "outputs": [
    {
     "name": "stdout",
     "output_type": "stream",
     "text": [
      "   ecg_id          diagnosis                            scp_codes_dict\n",
      "0       1  [NORM, LVOLT, SR]  {'NORM': 100.0, 'LVOLT': 0.0, 'SR': 0.0}\n",
      "1       2      [NORM, SBRAD]              {'NORM': 80.0, 'SBRAD': 0.0}\n",
      "2       3         [NORM, SR]                {'NORM': 100.0, 'SR': 0.0}\n",
      "3       4         [NORM, SR]                {'NORM': 100.0, 'SR': 0.0}\n",
      "4       5         [NORM, SR]                {'NORM': 100.0, 'SR': 0.0}\n"
     ]
    }
   ],
   "source": [
    "database['scp_codes_dict'] = database['scp_codes'].apply(ast.literal_eval)\n",
    "database['diagnosis'] = database['scp_codes_dict'].apply(lambda x: list(x.keys()))\n",
    "print(database[['ecg_id','diagnosis','scp_codes_dict']].head())"
   ]
  },
  {
   "cell_type": "code",
   "execution_count": 6,
   "id": "cad8adcf",
   "metadata": {},
   "outputs": [
    {
     "name": "stdout",
     "output_type": "stream",
     "text": [
      "Number of unique diagnosis: 4320\n"
     ]
    }
   ],
   "source": [
    "\n",
    "database['diagnosis_sorted'] = database['diagnosis'].apply(lambda x: sorted(x))\n",
    "database['diagnosis_sorted'].head()\n",
    "\n",
    "database[['ecg_id','diagnosis','diagnosis_sorted']].head()\n",
    "\n",
    "# count unique\n",
    "unique_list_count = database['diagnosis'].apply(tuple).nunique()\n",
    "print(\"Number of unique diagnosis:\", unique_list_count) # too many "
   ]
  },
  {
   "cell_type": "code",
   "execution_count": 7,
   "id": "1a2bdede",
   "metadata": {},
   "outputs": [
    {
     "data": {
      "text/html": [
       "<div>\n",
       "<style scoped>\n",
       "    .dataframe tbody tr th:only-of-type {\n",
       "        vertical-align: middle;\n",
       "    }\n",
       "\n",
       "    .dataframe tbody tr th {\n",
       "        vertical-align: top;\n",
       "    }\n",
       "\n",
       "    .dataframe thead th {\n",
       "        text-align: right;\n",
       "    }\n",
       "</style>\n",
       "<table border=\"1\" class=\"dataframe\">\n",
       "  <thead>\n",
       "    <tr style=\"text-align: right;\">\n",
       "      <th></th>\n",
       "      <th>ecg_id</th>\n",
       "      <th>diagnosis_sorted</th>\n",
       "      <th>diagnosis_combined</th>\n",
       "    </tr>\n",
       "  </thead>\n",
       "  <tbody>\n",
       "    <tr>\n",
       "      <th>0</th>\n",
       "      <td>1</td>\n",
       "      <td>[LVOLT, NORM, SR]</td>\n",
       "      <td>LVOLT NORM SR</td>\n",
       "    </tr>\n",
       "    <tr>\n",
       "      <th>1</th>\n",
       "      <td>2</td>\n",
       "      <td>[NORM, SBRAD]</td>\n",
       "      <td>NORM SBRAD</td>\n",
       "    </tr>\n",
       "    <tr>\n",
       "      <th>2</th>\n",
       "      <td>3</td>\n",
       "      <td>[NORM, SR]</td>\n",
       "      <td>NORM SR</td>\n",
       "    </tr>\n",
       "    <tr>\n",
       "      <th>3</th>\n",
       "      <td>4</td>\n",
       "      <td>[NORM, SR]</td>\n",
       "      <td>NORM SR</td>\n",
       "    </tr>\n",
       "    <tr>\n",
       "      <th>4</th>\n",
       "      <td>5</td>\n",
       "      <td>[NORM, SR]</td>\n",
       "      <td>NORM SR</td>\n",
       "    </tr>\n",
       "  </tbody>\n",
       "</table>\n",
       "</div>"
      ],
      "text/plain": [
       "   ecg_id   diagnosis_sorted diagnosis_combined\n",
       "0       1  [LVOLT, NORM, SR]      LVOLT NORM SR\n",
       "1       2      [NORM, SBRAD]         NORM SBRAD\n",
       "2       3         [NORM, SR]            NORM SR\n",
       "3       4         [NORM, SR]            NORM SR\n",
       "4       5         [NORM, SR]            NORM SR"
      ]
     },
     "execution_count": 7,
     "metadata": {},
     "output_type": "execute_result"
    }
   ],
   "source": [
    "data = database[['ecg_id','diagnosis_sorted']].copy()\n",
    "data['diagnosis_combined'] = data['diagnosis_sorted'].apply(lambda x: ' '.join(x))\n",
    "\n",
    "\n",
    "data.head()"
   ]
  },
  {
   "cell_type": "code",
   "execution_count": 8,
   "id": "b2f94c8f",
   "metadata": {},
   "outputs": [
    {
     "data": {
      "text/html": [
       "<div>\n",
       "<style scoped>\n",
       "    .dataframe tbody tr th:only-of-type {\n",
       "        vertical-align: middle;\n",
       "    }\n",
       "\n",
       "    .dataframe tbody tr th {\n",
       "        vertical-align: top;\n",
       "    }\n",
       "\n",
       "    .dataframe thead th {\n",
       "        text-align: right;\n",
       "    }\n",
       "</style>\n",
       "<table border=\"1\" class=\"dataframe\">\n",
       "  <thead>\n",
       "    <tr style=\"text-align: right;\">\n",
       "      <th></th>\n",
       "      <th>ecg_id</th>\n",
       "      <th>diagnosis_sorted</th>\n",
       "      <th>diagnosis_combined</th>\n",
       "      <th>ecg_filename</th>\n",
       "    </tr>\n",
       "  </thead>\n",
       "  <tbody>\n",
       "    <tr>\n",
       "      <th>0</th>\n",
       "      <td>1</td>\n",
       "      <td>[LVOLT, NORM, SR]</td>\n",
       "      <td>LVOLT NORM SR</td>\n",
       "      <td>00001_lr-0.png</td>\n",
       "    </tr>\n",
       "    <tr>\n",
       "      <th>1</th>\n",
       "      <td>2</td>\n",
       "      <td>[NORM, SBRAD]</td>\n",
       "      <td>NORM SBRAD</td>\n",
       "      <td>00002_lr-0.png</td>\n",
       "    </tr>\n",
       "    <tr>\n",
       "      <th>2</th>\n",
       "      <td>3</td>\n",
       "      <td>[NORM, SR]</td>\n",
       "      <td>NORM SR</td>\n",
       "      <td>00003_lr-0.png</td>\n",
       "    </tr>\n",
       "    <tr>\n",
       "      <th>3</th>\n",
       "      <td>4</td>\n",
       "      <td>[NORM, SR]</td>\n",
       "      <td>NORM SR</td>\n",
       "      <td>00004_lr-0.png</td>\n",
       "    </tr>\n",
       "    <tr>\n",
       "      <th>4</th>\n",
       "      <td>5</td>\n",
       "      <td>[NORM, SR]</td>\n",
       "      <td>NORM SR</td>\n",
       "      <td>00005_lr-0.png</td>\n",
       "    </tr>\n",
       "  </tbody>\n",
       "</table>\n",
       "</div>"
      ],
      "text/plain": [
       "   ecg_id   diagnosis_sorted diagnosis_combined    ecg_filename\n",
       "0       1  [LVOLT, NORM, SR]      LVOLT NORM SR  00001_lr-0.png\n",
       "1       2      [NORM, SBRAD]         NORM SBRAD  00002_lr-0.png\n",
       "2       3         [NORM, SR]            NORM SR  00003_lr-0.png\n",
       "3       4         [NORM, SR]            NORM SR  00004_lr-0.png\n",
       "4       5         [NORM, SR]            NORM SR  00005_lr-0.png"
      ]
     },
     "execution_count": 8,
     "metadata": {},
     "output_type": "execute_result"
    }
   ],
   "source": [
    "data['ecg_filename'] = data['ecg_id'].apply(lambda x: f\"{x:05}_lr-0.png\")\n",
    "data.head()"
   ]
  },
  {
   "cell_type": "code",
   "execution_count": 9,
   "id": "35675a12",
   "metadata": {},
   "outputs": [],
   "source": [
    "import os \n",
    "import glob"
   ]
  },
  {
   "cell_type": "code",
   "execution_count": 13,
   "id": "95841011",
   "metadata": {},
   "outputs": [
    {
     "name": "stdout",
     "output_type": "stream",
     "text": [
      "set()\n"
     ]
    }
   ],
   "source": [
    "directory_path = 'dat/connected_binarized/'\n",
    "existing_pngs = set([os.path.basename(file) for file in glob.glob(f'{directory_path}/**/*.png', recursive = True)])\n",
    "expected_pngs = set(data['ecg_filename'])\n",
    "\n",
    "missing_pngs = expected_pngs - existing_pngs\n",
    "\n",
    "print(missing_pngs)"
   ]
  },
  {
   "cell_type": "code",
   "execution_count": 14,
   "id": "73248de6",
   "metadata": {},
   "outputs": [
    {
     "name": "stdout",
     "output_type": "stream",
     "text": [
      "Remaining records: 21799\n"
     ]
    }
   ],
   "source": [
    "data_filtered = data[~data['ecg_filename'].isin(missing_pngs)]\n",
    "print(f\"Remaining records: {len(data_filtered)}\")"
   ]
  },
  {
   "cell_type": "code",
   "execution_count": 16,
   "id": "6c74b839",
   "metadata": {},
   "outputs": [
    {
     "name": "stdout",
     "output_type": "stream",
     "text": [
      "(21799, 4)\n",
      "   ecg_id   diagnosis_sorted diagnosis_combined    ecg_filename\n",
      "0       1  [LVOLT, NORM, SR]      LVOLT NORM SR  00001_lr-0.png\n",
      "1       2      [NORM, SBRAD]         NORM SBRAD  00002_lr-0.png\n",
      "2       3         [NORM, SR]            NORM SR  00003_lr-0.png\n",
      "3       4         [NORM, SR]            NORM SR  00004_lr-0.png\n",
      "4       5         [NORM, SR]            NORM SR  00005_lr-0.png\n"
     ]
    }
   ],
   "source": [
    "print(data_filtered.shape)\n",
    "print(data_filtered.head())"
   ]
  },
  {
   "cell_type": "code",
   "execution_count": 18,
   "id": "072003f0",
   "metadata": {},
   "outputs": [
    {
     "data": {
      "text/plain": [
       "21"
      ]
     },
     "execution_count": 18,
     "metadata": {},
     "output_type": "execute_result"
    }
   ],
   "source": [
    "data_filtered_check = data_filtered.copy()\n",
    "counts = data_filtered_check.groupby('diagnosis_combined').size().reset_index(name='count')\n",
    "\n",
    "less_than_15 = counts[counts['count'] > 100]\n",
    "\n",
    "len(less_than_15)"
   ]
  },
  {
   "cell_type": "code",
   "execution_count": 20,
   "id": "d1b41036",
   "metadata": {},
   "outputs": [
    {
     "name": "stdout",
     "output_type": "stream",
     "text": [
      "(11706, 4)\n",
      "   ecg_id diagnosis_sorted diagnosis_combined    ecg_filename\n",
      "1       2    [NORM, SBRAD]         NORM SBRAD  00002_lr-0.png\n",
      "2       3       [NORM, SR]            NORM SR  00003_lr-0.png\n",
      "3       4       [NORM, SR]            NORM SR  00004_lr-0.png\n",
      "4       5       [NORM, SR]            NORM SR  00005_lr-0.png\n",
      "5       6       [NORM, SR]            NORM SR  00006_lr-0.png\n"
     ]
    }
   ],
   "source": [
    "counts = data_filtered['diagnosis_combined'].value_counts()\n",
    "to_drop = counts[counts < 100].index\n",
    "df_filtered = data_filtered[~data_filtered['diagnosis_combined'].isin(to_drop)]\n",
    "print(df_filtered.shape)\n",
    "print(df_filtered.head())"
   ]
  },
  {
   "cell_type": "code",
   "execution_count": null,
   "id": "6019eb4d",
   "metadata": {},
   "outputs": [],
   "source": []
  }
 ],
 "metadata": {
  "kernelspec": {
   "display_name": "ekg",
   "language": "python",
   "name": "python3"
  },
  "language_info": {
   "codemirror_mode": {
    "name": "ipython",
    "version": 3
   },
   "file_extension": ".py",
   "mimetype": "text/x-python",
   "name": "python",
   "nbconvert_exporter": "python",
   "pygments_lexer": "ipython3",
   "version": "3.13.2"
  }
 },
 "nbformat": 4,
 "nbformat_minor": 5
}
